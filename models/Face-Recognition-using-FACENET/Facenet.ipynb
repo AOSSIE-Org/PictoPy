{
 "cells": [
  {
   "cell_type": "code",
   "execution_count": 1,
   "id": "2d68e975",
   "metadata": {},
   "outputs": [
    {
     "ename": "ModuleNotFoundError",
     "evalue": "No module named 'pytube'",
     "output_type": "error",
     "traceback": [
      "\u001b[1;31m---------------------------------------------------------------------------\u001b[0m",
      "\u001b[1;31mModuleNotFoundError\u001b[0m                       Traceback (most recent call last)",
      "Input \u001b[1;32mIn [1]\u001b[0m, in \u001b[0;36m<cell line: 1>\u001b[1;34m()\u001b[0m\n\u001b[1;32m----> 1\u001b[0m \u001b[38;5;28;01mfrom\u001b[39;00m \u001b[38;5;21;01mpytube\u001b[39;00m \u001b[38;5;28;01mimport\u001b[39;00m YouTube\n",
      "\u001b[1;31mModuleNotFoundError\u001b[0m: No module named 'pytube'"
     ]
    }
   ],
   "source": [
    "from pytube import YouTube"
   ]
  },
  {
   "cell_type": "code",
   "execution_count": 1,
   "id": "24769082",
   "metadata": {},
   "outputs": [
    {
     "name": "stdout",
     "output_type": "stream",
     "text": [
      "Collecting scikit-image\n",
      "  Using cached scikit_image-0.19.2-cp38-cp38-win_amd64.whl (12.6 MB)\n",
      "Requirement already satisfied: pillow!=7.1.0,!=7.1.1,!=8.3.0,>=6.1.0 in c:\\users\\iabhi\\anaconda3\\envs\\tf2.8\\lib\\site-packages (from scikit-image) (9.0.1)\n",
      "Collecting imageio>=2.4.1\n",
      "  Using cached imageio-2.16.1-py3-none-any.whl (3.3 MB)\n",
      "Collecting tifffile>=2019.7.26\n",
      "  Downloading tifffile-2022.3.16-py3-none-any.whl (179 kB)\n",
      "Requirement already satisfied: packaging>=20.0 in c:\\users\\iabhi\\anaconda3\\envs\\tf2.8\\lib\\site-packages (from scikit-image) (21.3)\n",
      "Requirement already satisfied: numpy>=1.17.0 in c:\\users\\iabhi\\anaconda3\\envs\\tf2.8\\lib\\site-packages (from scikit-image) (1.22.3)\n",
      "Collecting networkx>=2.2\n",
      "  Using cached networkx-2.7.1-py3-none-any.whl (2.0 MB)\n",
      "Collecting PyWavelets>=1.1.1\n",
      "  Downloading PyWavelets-1.3.0-cp38-cp38-win_amd64.whl (4.2 MB)\n",
      "Requirement already satisfied: scipy>=1.4.1 in c:\\users\\iabhi\\anaconda3\\envs\\tf2.8\\lib\\site-packages (from scikit-image) (1.7.3)\n",
      "Requirement already satisfied: pyparsing!=3.0.5,>=2.0.2 in c:\\users\\iabhi\\anaconda3\\envs\\tf2.8\\lib\\site-packages (from packaging>=20.0->scikit-image) (3.0.4)\n",
      "Installing collected packages: tifffile, PyWavelets, networkx, imageio, scikit-image\n",
      "Successfully installed PyWavelets-1.3.0 imageio-2.16.1 networkx-2.7.1 scikit-image-0.19.2 tifffile-2022.3.16\n",
      "Note: you may need to restart the kernel to use updated packages.\n"
     ]
    }
   ],
   "source": [
    "pip install scikit-image"
   ]
  },
  {
   "cell_type": "code",
   "execution_count": null,
   "id": "b422dfe3",
   "metadata": {},
   "outputs": [],
   "source": []
  }
 ],
 "metadata": {
  "kernelspec": {
   "display_name": "Python 3 (ipykernel)",
   "language": "python",
   "name": "python3"
  },
  "language_info": {
   "codemirror_mode": {
    "name": "ipython",
    "version": 3
   },
   "file_extension": ".py",
   "mimetype": "text/x-python",
   "name": "python",
   "nbconvert_exporter": "python",
   "pygments_lexer": "ipython3",
   "version": "3.8.10"
  }
 },
 "nbformat": 4,
 "nbformat_minor": 5
}
